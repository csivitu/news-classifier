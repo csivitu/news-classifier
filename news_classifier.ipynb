{
  "cells": [
    {
      "cell_type": "code",
      "execution_count": null,
      "metadata": {
        "colab": {
          "base_uri": "https://localhost:8080/"
        },
        "id": "JAn1N-z5L6J5",
        "outputId": "12adad90-2a23-481d-ffc1-2e9405befde4"
      },
      "outputs": [],
      "source": [
        "!pip install pandas scikit-learn nltk "
      ]
    },
    {
      "cell_type": "code",
      "execution_count": 31,
      "metadata": {
        "colab": {
          "base_uri": "https://localhost:8080/"
        },
        "id": "rIlPE7hyL8EA",
        "outputId": "be68a6e8-a116-440f-a9ee-b9d3a2a8f660"
      },
      "outputs": [
        {
          "data": {
            "text/plain": [
              "True"
            ]
          },
          "execution_count": 31,
          "metadata": {},
          "output_type": "execute_result"
        }
      ],
      "source": [
        "import pandas as pd\n",
        "from sklearn.model_selection import train_test_split\n",
        "from sklearn.feature_extraction.text import TfidfVectorizer\n",
        "from sklearn.naive_bayes import MultinomialNB\n",
        "from sklearn.metrics import accuracy_score, classification_report\n",
        "from sklearn.pipeline import Pipeline\n",
        "import nltk\n",
        "from nltk.corpus import stopwords\n",
        "from nltk.tokenize import word_tokenize\n",
        "import time\n",
        "\n",
        "\n",
        "from nltk import pos_tag\n",
        "import re\n",
        "from nltk.stem import WordNetLemmatizer as lemmatizer\n",
        "from spellchecker import SpellChecker\n",
        "\n",
        "\n",
        "nltk.download('punkt_tab', quiet=True)\n",
        "nltk.download('stopwords', quiet=True)\n",
        "nltk.download('wordnet', quiet=True)"
      ]
    },
    {
      "cell_type": "code",
      "execution_count": 30,
      "metadata": {
        "id": "0ShVjRtpL8Rm"
      },
      "outputs": [],
      "source": [
        "file_path = 'News_Category_Dataset_v3.json'\n",
        "df2 = pd.read_json(\"News_Category_Dataset_v3.json\", lines=True)\n",
        "df2['text'] = df2['headline'] + \" \" + df2['short_description']\n",
        "df2 = df2[['category', 'text']]"
      ]
    },
    {
      "cell_type": "code",
      "execution_count": 29,
      "metadata": {
        "id": "EuQaXpTJL8X6"
      },
      "outputs": [],
      "source": [
        "stop_words = set(stopwords.words('english'))\n",
        "\n",
        "def preprocess_text(text):\n",
        "    tokens = word_tokenize(text.lower())\n",
        "\n",
        "    tokens = re.sub(r'[^a-z\\s]', '', text)\n",
        "    tokens = re.sub(r'http\\S+|www\\S+|https\\S+', '', text, flags=re.MULTILINE)\n",
        "    tokens = re.sub(r'<.*?>', '', text)\n",
        "    tokens = re.sub(r'(.)\\1{2,}', r'\\1\\1', text)\n",
        "    tokens = [\n",
        "        token if pos_tag([token])[0][1] != 'NNP'\n",
        "        else token for token in tokens\n",
        "        if token.isalpha() and token not in stop_words\n",
        "        ]\n",
        "    tokens = [lemmatizer.lemmatize(token) for token in tokens]\n",
        "    spell = SpellChecker()\n",
        "    tokens = [spell.correction(token) for token in tokens]\n",
        "\n",
        "    return ' '.join(tokens)\n"
      ]
    },
    {
      "cell_type": "code",
      "execution_count": 26,
      "metadata": {
        "collapsed": true,
        "id": "dvuPlZEUMTW7"
      },
      "outputs": [],
      "source": [
        "X_train, X_test, y_train, y_test = train_test_split(df2['processed_text'], df2['category'], test_size=0.6)\n",
        "\n",
        "pipeline = Pipeline([\n",
        "    ('tfidf', TfidfVectorizer(max_features=5000)),\n",
        "    ('classifier', MultinomialNB())\n",
        "])"
      ]
    },
    {
      "cell_type": "code",
      "execution_count": 27,
      "metadata": {
        "colab": {
          "base_uri": "https://localhost:8080/"
        },
        "id": "gnAY78liT977",
        "outputId": "ebd700c0-c2ac-4559-d482-454d3e5af814"
      },
      "outputs": [
        {
          "name": "stdout",
          "output_type": "stream",
          "text": [
            "Training the model...\n",
            "Training completed in 2.70 seconds (0.04 minutes)\n",
            "Making predictions...\n",
            "Accuracy: 0.4916\n",
            "\n",
            "Classification Report:\n",
            "                precision    recall  f1-score   support\n",
            "\n",
            "          ARTS       0.44      0.02      0.04       876\n",
            "ARTS & CULTURE       1.00      0.00      0.01       768\n",
            "  BLACK VOICES       0.59      0.07      0.12      2729\n",
            "      BUSINESS       0.49      0.25      0.33      3606\n",
            "       COLLEGE       0.50      0.00      0.00       696\n",
            "        COMEDY       0.63      0.19      0.29      3254\n",
            "         CRIME       0.55      0.43      0.48      2157\n",
            "CULTURE & ARTS       1.00      0.00      0.01       651\n",
            "       DIVORCE       0.88      0.39      0.54      2035\n",
            "     EDUCATION       1.00      0.00      0.01       613\n",
            " ENTERTAINMENT       0.44      0.76      0.55     10346\n",
            "   ENVIRONMENT       0.98      0.05      0.09       857\n",
            "         FIFTY       1.00      0.00      0.00       834\n",
            "  FOOD & DRINK       0.59      0.66      0.62      3856\n",
            "     GOOD NEWS       1.00      0.01      0.01       842\n",
            "         GREEN       0.42      0.06      0.11      1567\n",
            "HEALTHY LIVING       0.46      0.02      0.04      3917\n",
            " HOME & LIVING       0.81      0.45      0.58      2558\n",
            "        IMPACT       0.53      0.05      0.09      2089\n",
            " LATINO VOICES       0.67      0.00      0.01       667\n",
            "         MEDIA       0.72      0.05      0.09      1784\n",
            "         MONEY       0.67      0.05      0.09      1064\n",
            "     PARENTING       0.43      0.54      0.48      5276\n",
            "       PARENTS       0.62      0.03      0.06      2370\n",
            "      POLITICS       0.48      0.93      0.63     21370\n",
            "  QUEER VOICES       0.79      0.38      0.51      3827\n",
            "      RELIGION       0.73      0.13      0.22      1570\n",
            "       SCIENCE       0.82      0.10      0.18      1344\n",
            "        SPORTS       0.70      0.40      0.51      3077\n",
            "         STYLE       1.00      0.00      0.00      1362\n",
            "STYLE & BEAUTY       0.61      0.76      0.68      5877\n",
            "         TASTE       1.00      0.00      0.00      1260\n",
            "          TECH       0.81      0.11      0.20      1285\n",
            " THE WORLDPOST       0.51      0.22      0.31      2202\n",
            "        TRAVEL       0.56      0.75      0.64      5986\n",
            "     U.S. NEWS       0.00      0.00      0.00       799\n",
            "      WEDDINGS       0.86      0.50      0.64      2201\n",
            "    WEIRD NEWS       0.50      0.03      0.06      1693\n",
            "      WELLNESS       0.38      0.86      0.53     10735\n",
            "         WOMEN       0.71      0.08      0.14      2164\n",
            "    WORLD NEWS       0.47      0.10      0.17      1994\n",
            "     WORLDPOST       0.56      0.02      0.04      1559\n",
            "\n",
            "      accuracy                           0.49    125717\n",
            "     macro avg       0.66      0.23      0.24    125717\n",
            "  weighted avg       0.57      0.49      0.41    125717\n",
            "\n"
          ]
        }
      ],
      "source": [
        "print(\"Training the model...\")\n",
        "start_time = time.time()\n",
        "pipeline.fit(X_train, y_train)\n",
        "end_time = time.time()\n",
        "training_time = end_time - start_time\n",
        "print(f\"Training completed in {training_time:.2f} seconds ({training_time/60:.2f} minutes)\")\n",
        "\n",
        "print(\"Making predictions...\")\n",
        "y_pred = pipeline.predict(X_test)\n",
        "\n",
        "accuracy = accuracy_score(y_test, y_pred)\n",
        "print(f\"Accuracy: {accuracy:.4f}\\n\")\n",
        "\n",
        "print(\"Classification Report:\")\n",
        "print(classification_report(y_test, y_pred, zero_division=1))"
      ]
    }
  ],
  "metadata": {
    "colab": {
      "provenance": []
    },
    "kernelspec": {
      "display_name": "Python 3",
      "name": "python3"
    },
    "language_info": {
      "codemirror_mode": {
        "name": "ipython",
        "version": 3
      },
      "file_extension": ".py",
      "mimetype": "text/x-python",
      "name": "python",
      "nbconvert_exporter": "python",
      "pygments_lexer": "ipython3",
      "version": "3.12.6"
    }
  },
  "nbformat": 4,
  "nbformat_minor": 0
}
